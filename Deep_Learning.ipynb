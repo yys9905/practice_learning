{
  "nbformat": 4,
  "nbformat_minor": 0,
  "metadata": {
    "colab": {
      "name": "Deep_Learning.ipynb",
      "provenance": [],
      "collapsed_sections": [],
      "authorship_tag": "ABX9TyP0Sue6053Av8IYXhl0ikLz",
      "include_colab_link": true
    },
    "kernelspec": {
      "name": "python3",
      "display_name": "Python 3"
    },
    "language_info": {
      "name": "python"
    }
  },
  "cells": [
    {
      "cell_type": "markdown",
      "metadata": {
        "id": "view-in-github",
        "colab_type": "text"
      },
      "source": [
        "<a href=\"https://colab.research.google.com/github/yys9905/practice_learning/blob/main/Deep_Learning.ipynb\" target=\"_parent\"><img src=\"https://colab.research.google.com/assets/colab-badge.svg\" alt=\"Open In Colab\"/></a>"
      ]
    },
    {
      "cell_type": "markdown",
      "source": [
        "머신러닝 : 컴퓨터에게 학습을해 특정 문제를 해결할수 있는 능력을 만드는것\n",
        "\n",
        "딥러닝 - 머신러닝 기법중 하나(가이드라인이 불필요)\n",
        "\n",
        "AlphaGo\n",
        "기존의 머신러닝으로 만들어졌을 경우\n",
        "- 바둑 두는 법 가이드를 줌\n",
        "딥러닝으로 만들어졌을 경우\n",
        "- 컴퓨터가 try 와 error를 통해 터득함\n",
        "\n",
        "딥러닝으로 사전지식이 별로 없어도 만들수 있게됨\n",
        "\n",
        "뉴럴네트워크(뇌 신경망)를 이용해 러닝을 진행\n",
        "\n",
        "딥러닝이 잘하는 분야\n",
        "1. Image Classification / Object Detection\n",
        "2. Sequence Data 분석 & 예측 (ex.번역)\n",
        "\n"
      ],
      "metadata": {
        "id": "exVyu2usoV3i"
      }
    },
    {
      "cell_type": "markdown",
      "source": [
        "머신러닝 종류 \n",
        "Supervised Learning : 데이터에 정답이 있고 정답 예측 모델을 만들때 사용\n",
        "\n",
        "Unsupervised Learning : 데이터에 정답이 없을때 분류하게 하는것\n",
        "\n",
        "Reinforcement Learning : 상과 벌을 이용해 최종 점수를 높이는 방향으로 학습하게 하는것\n",
        "\n",
        "perceptron\n",
        "각각의 특징들이 끼치는 영향력(가중치:weight)을 곱해서 더한후 b(bias)를 더함\n",
        "a1*w1 + a2*w2 +... + b\n",
        "실제 데이터를 기준으로 오차를 최대한 줄이는 쪽으로 만들어보라고 시키는것.\n",
        "\n",
        "딥러닝\n",
        "perceptron에서 중간에 hidden layer을만들어 여러 perceptron들을 거쳐 예측하는것 - nuralnatwork\n",
        "layer를 여러게 만들면 딥뉴럴 네트워크라 함\n",
        "\n",
        "feature extraction(특성추출) - 특성들을 추출해서 예측함"
      ],
      "metadata": {
        "id": "J9svYhKouOTh"
      }
    },
    {
      "cell_type": "markdown",
      "source": [
        ""
      ],
      "metadata": {
        "id": "TKx6dv1k0Wye"
      }
    },
    {
      "cell_type": "code",
      "source": [
        ""
      ],
      "metadata": {
        "id": "G9ja1Vv7tY_l"
      },
      "execution_count": null,
      "outputs": []
    }
  ]
}
{
  "nbformat": 4,
  "nbformat_minor": 0,
  "metadata": {
    "colab": {
      "name": "Deep_Learning.ipynb",
      "provenance": [],
      "collapsed_sections": [],
      "authorship_tag": "ABX9TyOs1+foZPPM97d0qxe9/z6n",
      "include_colab_link": true
    },
    "kernelspec": {
      "name": "python3",
      "display_name": "Python 3"
    },
    "language_info": {
      "name": "python"
    }
  },
  "cells": [
    {
      "cell_type": "markdown",
      "metadata": {
        "id": "view-in-github",
        "colab_type": "text"
      },
      "source": [
        "<a href=\"https://colab.research.google.com/github/yys9905/practice_learning/blob/main/Deep_Learning.ipynb\" target=\"_parent\"><img src=\"https://colab.research.google.com/assets/colab-badge.svg\" alt=\"Open In Colab\"/></a>"
      ]
    },
    {
      "cell_type": "markdown",
      "source": [
        "머신러닝 : 컴퓨터에게 학습을해 특정 문제를 해결할수 있는 능력을 만드는것\n",
        "\n",
        "딥러닝 - 머신러닝 기법중 하나(가이드라인이 불필요)\n",
        "\n",
        "AlphaGo\n",
        "기존의 머신러닝으로 만들어졌을 경우\n",
        "- 바둑 두는 법 가이드를 줌\n",
        "딥러닝으로 만들어졌을 경우\n",
        "- 컴퓨터가 try 와 error를 통해 터득함\n",
        "\n",
        "딥러닝으로 사전지식이 별로 없어도 만들수 있게됨\n",
        "\n",
        "뉴럴네트워크(뇌 신경망)를 이용해 러닝을 진행\n",
        "\n",
        "딥러닝이 잘하는 분야\n",
        "1. Image Classification / Object Detection\n",
        "2. Sequence Data 분석 & 예측 (ex.번역)"
      ],
      "metadata": {
        "id": "exVyu2usoV3i"
      }
    },
    {
      "cell_type": "markdown",
      "source": [
        "머신러닝 종류 \n",
        "Supervised Learning : 데이터에 정답이 있고 정답 예측 모델을 만들때 사용\n",
        "\n",
        "Unsupervised Learning : 데이터에 정답이 없을때 분류하게 하는것\n",
        "\n",
        "Reinforcement Learning : 상과 벌을 이용해 최종 점수를 높이는 방향으로 학습하게 하는것\n",
        "\n",
        "perceptron\n",
        "각각의 특징들이 끼치는 영향력(가중치:weight)을 곱해서 더한후 b(bias)를 더함\n",
        "\n",
        "*a1*x*w1* + *a2*x*w2* +... + *b*\n",
        "\n",
        "<img src = https://i.ibb.co/DQYs0dr/Perceptron.png>\n",
        "\n",
        "실제 데이터를 기준으로 오차를 최대한 줄이는 쪽으로 만들어보라고 시키는것.\n",
        "\n",
        "딥러닝\n",
        "perceptron에서 중간에 hidden layer을만들어 여러 perceptron들을 거쳐 예측하는것 - nuralnatwork\n",
        "layer를 여러게 만들면 딥뉴럴 네트워크라 함\n",
        "\n",
        "<img src=https://i.ibb.co/GV046FH/Neural-Network.png>\n",
        "\n",
        "feature extraction(특성추출) - 특성들을 추출해서 예측함"
      ],
      "metadata": {
        "id": "J9svYhKouOTh"
      }
    },
    {
      "cell_type": "markdown",
      "source": [
        "<img src=https://i.ibb.co/9WgSkMX/Neural-Network2.png>\n",
        "\n",
        "h1 = a1w1 + a2w2 + a3w3\n",
        "? = h1w7 + h2w8\n",
        "\n",
        "위를 기반으로 오차를 최소화하는 w값을 찾게 만드는것을 머신러닝이라 하고\n",
        "\n",
        "오차를 구함과 동시에 모델의 정확도를 평가하는 함수를\n",
        "손실함수(Loss function)이라함\n",
        "\n",
        "#$ 1\\over n$$∑(ŷ-y)^2$\n",
        "\n",
        "ŷ == 예측값\n",
        "\n",
        "y == 실제값\n",
        "\n",
        "제곱을하는 이유는 정수값을 예측할때 씀\n",
        "\n",
        "-$1\\over n$$Σ[ylog(ŷ) + (1 - y)log(1-ŷ)]$\n",
        "\n",
        "분류나 확률을 예측할때씀"
      ],
      "metadata": {
        "id": "TKx6dv1k0Wye"
      }
    },
    {
      "cell_type": "markdown",
      "source": [
        "활성함수(Activation Function)\n",
        "\n",
        "<img src=https://i.ibb.co/hdwTKFC/active-function-removebg-preview.png>\n",
        "\n",
        "종류\n",
        "\n",
        "sigmoid\n",
        "\n",
        "0~1사이의 값으로 나타남\n",
        "\n",
        "# $1\\over 1 + e^{-x}$\n",
        "\n",
        "<img src=https://i.ibb.co/q98vgWN/desmos-graph.png>\n",
        "\n",
        "tanh(Hyperbolic tangent)\n",
        "\n",
        "-1~1사이의 값으로 나타남\n",
        "\n",
        "#$e^x-e^{-x}\\over {e^x+e^{-x}}$\n",
        "\n",
        "<img src= https://i.ibb.co/pPD0qy0/desmos-graph-1.png>\n",
        "\n",
        "Rectified Linear Units\n",
        "\n",
        "양수면 그대로, 음수면 0으로 나타남\n",
        "\n",
        "<img src = https://i.ibb.co/mtz8PHP/Rectified-Linear-Units.png>\n",
        "\n",
        "...\n",
        "\n",
        "활성함수 없이 예측 : 선형적이고 단순한 예측\n",
        "활성함수 포함한 예측 : 비선형적이고 복잡한 예측가능\n",
        "\n",
        "\n"
      ],
      "metadata": {
        "id": "ElM3EMiBV4r9"
      }
    },
    {
      "cell_type": "code",
      "source": [
        ""
      ],
      "metadata": {
        "id": "G9ja1Vv7tY_l"
      },
      "execution_count": null,
      "outputs": []
    }
  ]
}
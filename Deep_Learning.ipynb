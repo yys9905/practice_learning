{
  "nbformat": 4,
  "nbformat_minor": 0,
  "metadata": {
    "colab": {
      "name": "Deep_Learning.ipynb",
      "provenance": [],
      "collapsed_sections": [],
      "authorship_tag": "ABX9TyMZIgObEhX6vyI5m5Pj2EhG",
      "include_colab_link": true
    },
    "kernelspec": {
      "name": "python3",
      "display_name": "Python 3"
    },
    "language_info": {
      "name": "python"
    }
  },
  "cells": [
    {
      "cell_type": "markdown",
      "metadata": {
        "id": "view-in-github",
        "colab_type": "text"
      },
      "source": [
        "<a href=\"https://colab.research.google.com/github/yys9905/practice_learning/blob/main/Deep_Learning.ipynb\" target=\"_parent\"><img src=\"https://colab.research.google.com/assets/colab-badge.svg\" alt=\"Open In Colab\"/></a>"
      ]
    },
    {
      "cell_type": "markdown",
      "source": [
        "머신러닝 : 컴퓨터에게 학습을해 특정 문제를 해결할수 있는 능력을 만드는것\n",
        "\n",
        "딥러닝 - 머신러닝 기법중 하나(가이드라인이 불필요)\n",
        "\n",
        "AlphaGo\n",
        "기존의 머신러닝으로 만들어졌을 경우\n",
        "- 바둑 두는 법 가이드를 줌\n",
        "딥러닝으로 만들어졌을 경우\n",
        "- 컴퓨터가 try 와 error를 통해 터득함\n",
        "\n",
        "딥러닝으로 사전지식이 별로 없어도 만들수 있게됨\n",
        "\n",
        "뉴럴네트워크(뇌 신경망)를 이용해 러닝을 진행\n"
      ],
      "metadata": {
        "id": "exVyu2usoV3i"
      }
    },
    {
      "cell_type": "code",
      "source": [
        "!git clone https://github.com/yys9905/practice_learning.git"
      ],
      "metadata": {
        "colab": {
          "base_uri": "https://localhost:8080/"
        },
        "id": "SW9cMOicoZXn",
        "outputId": "2c06fedf-88ec-4197-a226-66b5e10c7331"
      },
      "execution_count": 2,
      "outputs": [
        {
          "output_type": "stream",
          "name": "stdout",
          "text": [
            "Cloning into 'practice_learning'...\n",
            "warning: You appear to have cloned an empty repository.\n"
          ]
        }
      ]
    },
    {
      "cell_type": "code",
      "execution_count": 3,
      "metadata": {
        "colab": {
          "base_uri": "https://localhost:8080/"
        },
        "id": "6c68slLukv5k",
        "outputId": "e6692aec-6a94-4c43-f3e2-627558f21b3d"
      },
      "outputs": [
        {
          "output_type": "stream",
          "name": "stdout",
          "text": [
            "fatal: not a git repository (or any of the parent directories): .git\n"
          ]
        }
      ],
      "source": [
        ""
      ]
    },
    {
      "cell_type": "code",
      "source": [
        ""
      ],
      "metadata": {
        "id": "EwWxdxS1qrAz"
      },
      "execution_count": null,
      "outputs": []
    }
  ]
}